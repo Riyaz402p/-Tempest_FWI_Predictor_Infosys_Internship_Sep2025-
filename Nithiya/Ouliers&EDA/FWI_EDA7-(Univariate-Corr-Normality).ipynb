{
 "cells": [
  {
   "cell_type": "code",
   "execution_count": null,
   "id": "3df75d12-d3e0-4cdc-9f7a-eea8d075b1ff",
   "metadata": {},
   "outputs": [
    {
     "ename": "",
     "evalue": "",
     "output_type": "error",
     "traceback": [
      "\u001b[1;31mRunning cells with 'Python 3.13.1' requires the ipykernel package.\n",
      "\u001b[1;31m<a href='command:jupyter.createPythonEnvAndSelectController'>Create a Python Environment</a> with the required packages.\n",
      "\u001b[1;31mOr install 'ipykernel' using the command: 'c:/Users/DELL/AppData/Local/Programs/Python/Python313/python.exe -m pip install ipykernel -U --user --force-reinstall'"
     ]
    }
   ],
   "source": [
    "import pandas as pd\n",
    "import numpy as np\n",
    "import matplotlib.pyplot as plt\n",
    "import seaborn as sns"
   ]
  },
  {
   "cell_type": "code",
   "execution_count": null,
   "id": "aceb61c1-104e-4fdd-9ca1-4b57b04f17be",
   "metadata": {},
   "outputs": [],
   "source": [
    "data = pd.read_csv(r'C:\\Users\\Nithiya\\train_data.csv')\n",
    "data"
   ]
  },
  {
   "cell_type": "code",
   "execution_count": null,
   "id": "b4ed9c7e-2e26-4817-b079-e7a853eb6f47",
   "metadata": {},
   "outputs": [],
   "source": [
    "data.drop(['report_date'], axis =1 , inplace = True)"
   ]
  },
  {
   "cell_type": "code",
   "execution_count": null,
   "id": "241e40b8-4a98-4e09-8f54-43202fd35aaf",
   "metadata": {},
   "outputs": [],
   "source": [
    "data.columns"
   ]
  },
  {
   "cell_type": "code",
   "execution_count": null,
   "id": "50f19ed1-d05e-4f17-a155-ce482d230ddc",
   "metadata": {},
   "outputs": [],
   "source": [
    "data"
   ]
  },
  {
   "cell_type": "code",
   "execution_count": null,
   "id": "795c29b7-380a-4088-9718-56cf5154069f",
   "metadata": {},
   "outputs": [],
   "source": [
    "data['country'].value_counts()"
   ]
  },
  {
   "cell_type": "code",
   "execution_count": null,
   "id": "8c62d938-1217-4c66-b723-54d4086305bd",
   "metadata": {},
   "outputs": [],
   "source": [
    "data.describe()"
   ]
  },
  {
   "cell_type": "code",
   "execution_count": null,
   "id": "8b49bd79-9b8b-4e40-a164-5ed6f2f7a1d0",
   "metadata": {},
   "outputs": [],
   "source": [
    "#Univariate Analysis\n",
    "\n",
    "for col in data.select_dtypes(include=['float64','int64']).columns:\n",
    "    plt.figure(figsize=(6,4))\n",
    "    sns.histplot(data[col], kde=True, bins=30)\n",
    "    plt.title(f'Distribution of {col}')\n",
    "    plt.show()\n"
   ]
  },
  {
   "cell_type": "code",
   "execution_count": null,
   "id": "8baf0d36-8d3b-4b45-93b8-e5e116fea663",
   "metadata": {},
   "outputs": [],
   "source": [
    "#Univariate Analysis\n",
    "\n",
    "for col in data.select_dtypes(include=['float64','int64']).columns:\n",
    "    plt.figure(figsize=(6,4))\n",
    "    sns.boxplot(y = data[col])\n",
    "    plt.title(f'Distribution of {col}')\n",
    "    plt.show()\n"
   ]
  },
  {
   "cell_type": "code",
   "execution_count": null,
   "id": "b6ffc0ce-40f8-41e1-a7d4-1cef64eec043",
   "metadata": {},
   "outputs": [],
   "source": [
    "target = 'fire_weather_index'\n",
    "\n",
    "numeric_data = data.select_dtypes(include=['number'])\n",
    "correlations = numeric_data.corr()[target].sort_values(ascending=False)\n",
    "print(\"Correlations with target variable:\\n\", correlations)\n",
    "\n",
    "# Scatter plots for each feature vs. target variable\n",
    "features = [col for col in data.columns if col != target and data[col].dtype != 'object']\n",
    "\n",
    "for feature in features:\n",
    "    plt.figure(figsize=(6, 4))\n",
    "    sns.scatterplot(x=data[feature], y=data[target])\n",
    "    plt.title(f'{feature} vs {target}')\n",
    "    plt.xlabel(feature)\n",
    "    plt.ylabel(target)\n",
    "    plt.tight_layout()\n",
    "    plt.show()\n"
   ]
  },
  {
   "cell_type": "code",
   "execution_count": null,
   "id": "ed7cf266-a9e6-41b2-be61-605c0f7afe4d",
   "metadata": {},
   "outputs": [],
   "source": [
    "df_sample = data.sample(n=4000, random_state=42)  \n",
    "print(df_sample.shape)"
   ]
  },
  {
   "cell_type": "code",
   "execution_count": null,
   "id": "8c319002-ad44-4de0-b82c-f566675c21b4",
   "metadata": {},
   "outputs": [],
   "source": [
    "#Univariate Analysis\n",
    "\n",
    "for col in df_sample.select_dtypes(include=['float64','int64']).columns:\n",
    "    plt.figure(figsize=(6,4))\n",
    "    sns.histplot(df_sample[col], kde=True, bins=30)\n",
    "    plt.title(f'Distribution of {col}')\n",
    "    plt.show()\n"
   ]
  },
  {
   "cell_type": "code",
   "execution_count": null,
   "id": "b8ce0792-f27f-41d8-9c12-69c7692c7813",
   "metadata": {},
   "outputs": [],
   "source": [
    "#Univariate Analysis\n",
    "\n",
    "for col in df_sample.select_dtypes(include=['float64','int64']).columns:\n",
    "    plt.figure(figsize=(6,4))\n",
    "    sns.boxplot(y = df_sample[col])\n",
    "    plt.title(f'Distribution of {col}')\n",
    "    plt.show()\n"
   ]
  },
  {
   "cell_type": "code",
   "execution_count": null,
   "id": "5b193eec-760e-4979-8c65-6fe38a9cd28b",
   "metadata": {},
   "outputs": [],
   "source": [
    "target = 'fire_weather_index'\n",
    "\n",
    "numeric_data = df_sample.select_dtypes(include=['number'])\n",
    "correlations = numeric_data.corr()[target].sort_values(ascending=False)\n",
    "print(\"Correlations with target variable:\\n\", correlations)\n",
    "\n",
    "# Scatter plots for each feature vs. target variable\n",
    "features = [col for col in df_sample.columns if col != target and df_sample[col].dtype != 'object']\n",
    "\n",
    "for feature in features:\n",
    "    plt.figure(figsize=(6, 4))\n",
    "    sns.scatterplot(x=df_sample[feature], y=df_sample[target])\n",
    "    plt.title(f'{feature} vs {target}')\n",
    "    plt.xlabel(feature)\n",
    "    plt.ylabel(target)\n",
    "    plt.tight_layout()\n",
    "    plt.show()\n"
   ]
  },
  {
   "cell_type": "code",
   "execution_count": null,
   "id": "82b29cff-8505-478d-b6db-0ff850816418",
   "metadata": {},
   "outputs": [],
   "source": [
    "target = 'fire_weather_index'\n",
    "\n",
    "numeric_data = df_sample.select_dtypes(include=['number'])\n",
    "correlations = numeric_data.corr()[target].sort_values(ascending=False)\n",
    "print(\"Correlations with target variable:\\n\", correlations)\n",
    "\n",
    "# Scatter plots for each feature vs. target variable\n",
    "features = [col for col in df_sample.columns if col != target and df_sample[col].dtype != 'object']\n",
    "\n",
    "for feature in features:\n",
    "    plt.figure(figsize=(6, 4))\n",
    "    sns.scatterplot(x=df_sample[feature], y=df_sample[target],alpha= 0.2)\n",
    "    plt.title(f'{feature} vs {target}')\n",
    "    plt.xlabel(feature)\n",
    "    plt.ylabel(target)\n",
    "    plt.tight_layout()\n",
    "    plt.show()\n"
   ]
  },
  {
   "cell_type": "code",
   "execution_count": null,
   "id": "411cc331-d20f-4e58-82c5-3a9c589a63c3",
   "metadata": {},
   "outputs": [],
   "source": [
    "target = 'fire_weather_index'\n",
    "\n",
    "numeric_data = df_sample.select_dtypes(include=['number'])\n",
    "correlations = numeric_data.corr()[target].sort_values(ascending=False)\n",
    "print(\"Correlations with target variable:\\n\", correlations)\n",
    "\n",
    "# Scatter plots for each feature vs. target variable\n",
    "features = [col for col in df_sample.columns if col != target and df_sample[col].dtype != 'object']\n",
    "\n",
    "for feature in features:\n",
    "    plt.figure(figsize=(6, 4))\n",
    "    sns.regplot(x=df_sample[feature], y=df_sample[target], scatter_kws={'alpha':0.2})\n",
    "    plt.title(f'{feature} vs {target}')\n",
    "    plt.xlabel(feature)\n",
    "    plt.ylabel(target)\n",
    "    plt.tight_layout()\n",
    "    plt.show()\n"
   ]
  },
  {
   "cell_type": "code",
   "execution_count": null,
   "id": "213da533-10be-419b-a3e1-0fb2692a0158",
   "metadata": {},
   "outputs": [],
   "source": [
    "# Select only numeric columns\n",
    "num_df = df_sample.select_dtypes(include=['number'])\n",
    "\n",
    "# Compute Pearson and Spearman correlation matrices\n",
    "pearson_corr = num_df.corr(method='pearson')\n",
    "spearman_corr = num_df.corr(method='spearman')\n",
    "\n"
   ]
  },
  {
   "cell_type": "code",
   "execution_count": null,
   "id": "b7f82257-9dce-4d19-82c4-b956730be8e2",
   "metadata": {},
   "outputs": [],
   "source": [
    "pearson_corr"
   ]
  },
  {
   "cell_type": "code",
   "execution_count": null,
   "id": "08c4251b-725d-4775-9ce2-1edcc7ed2113",
   "metadata": {},
   "outputs": [],
   "source": [
    "plt.figure(figsize=(14,8))\n",
    "sns.heatmap(pearson_corr, annot=True, cmap=\"coolwarm\")\n",
    "plt.title(\"Pearson Correlation Heatmap\")\n",
    "plt.show()"
   ]
  },
  {
   "cell_type": "code",
   "execution_count": null,
   "id": "2f8404e7-f09e-467f-863d-c142c5d2f6e5",
   "metadata": {},
   "outputs": [],
   "source": [
    "plt.figure(figsize=(14,8))\n",
    "sns.heatmap(spearman_corr, annot=True, cmap=\"coolwarm\")\n",
    "plt.title(\"spearman Correlation Heatmap\")\n",
    "plt.show()"
   ]
  },
  {
   "cell_type": "code",
   "execution_count": null,
   "id": "2ea5073b-eeb2-4d7c-a696-03da426a1ffd",
   "metadata": {},
   "outputs": [],
   "source": [
    "#statistical analysis"
   ]
  },
  {
   "cell_type": "code",
   "execution_count": null,
   "id": "869475ba-0598-485d-b2a1-c36af075ba35",
   "metadata": {},
   "outputs": [],
   "source": [
    "Histogram / KDE plot\n",
    "\n",
    "Q–Q plot\n",
    "\n",
    "Shapiro-Wilk test (p > 0.05 → data looks normal)"
   ]
  },
  {
   "cell_type": "code",
   "execution_count": null,
   "id": "28d21ff0-d905-4635-9afe-6cc741fa6951",
   "metadata": {},
   "outputs": [],
   "source": [
    "Normality of numerical data\n",
    "\n",
    "Histogram / KDE plot\n",
    "\n",
    "Q–Q plot\n",
    "\n",
    "Shapiro-Wilk test (p > 0.05 → data looks normal)"
   ]
  },
  {
   "cell_type": "code",
   "execution_count": null,
   "id": "6bf64a74-7cab-47b5-b03c-b84a5d652110",
   "metadata": {},
   "outputs": [],
   "source": [
    "import scipy.stats as stats\n",
    "\n",
    "col = \"fine_fuel_moisture_code\" \n",
    "data_col = data[col]\n",
    "\n",
    "# 1. Histogram + KDE\n",
    "plt.figure(figsize=(8,5))\n",
    "sns.histplot(data_col, kde=True, bins=30)\n",
    "plt.title(f\"Histogram + KDE for {col}\")\n",
    "plt.show()\n",
    "\n",
    "# 2. Q-Q plot\n",
    "plt.figure(figsize=(6,6))\n",
    "stats.probplot(data_col, dist=\"norm\", plot=plt)\n",
    "plt.title(f\"Q-Q plot for {col}\")\n",
    "plt.show()\n",
    "\n",
    "# 3. Shapiro-Wilk test\n",
    "shapiro_stat, shapiro_p = stats.shapiro(data_col)\n",
    "print(f\"Shapiro-Wilk Test for {col}: Statistic={shapiro_stat:.3f}, p-value={shapiro_p:.3f}\")\n",
    "\n",
    "if shapiro_p > 0.05:\n",
    "    print(\"Data looks normally distributed (fail to reject H0).\")\n",
    "else:\n",
    "    print(\"Data is not normally distributed (reject H0).\")"
   ]
  },
  {
   "cell_type": "code",
   "execution_count": null,
   "id": "788c1d3e-1a6a-4980-a327-783f8c3ac16b",
   "metadata": {},
   "outputs": [],
   "source": [
    "data.plot(kind ='scatter',y='latitude', x='longitude',grid = True)\n",
    "plt.show()"
   ]
  },
  {
   "cell_type": "code",
   "execution_count": null,
   "id": "4a5af33a-854e-4332-a843-cc9b68e542de",
   "metadata": {},
   "outputs": [],
   "source": [
    "data.plot(kind ='scatter',y='latitude', x='longitude',grid = True, s =data['temperature'], \n",
    "          label = 'temperature', c = 'fire_weather_index', cmap = 'jet', colorbar = True,\n",
    "         legend = True, figsize= (10,7))\n",
    "plt.show()"
   ]
  }
 ],
 "metadata": {
  "kernelspec": {
   "display_name": "Python 3",
   "language": "python",
   "name": "python3"
  },
  "language_info": {
   "codemirror_mode": {
    "name": "ipython",
    "version": 3
   },
   "file_extension": ".py",
   "mimetype": "text/x-python",
   "name": "python",
   "nbconvert_exporter": "python",
   "pygments_lexer": "ipython3",
   "version": "3.11.9"
  }
 },
 "nbformat": 4,
 "nbformat_minor": 5
}
