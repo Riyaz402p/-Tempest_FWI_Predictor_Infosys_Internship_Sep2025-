{
 "cells": [
  {
   "cell_type": "code",
   "execution_count": 15,
   "id": "efe4164f",
   "metadata": {},
   "outputs": [],
   "source": [
    "import pandas as pd\n",
    "import numpy as np\n",
    "import matplotlib.pyplot as plt\n",
    "from sklearn.model_selection import train_test_split\n",
    "from sklearn.linear_model import LinearRegression, Ridge\n",
    "from sklearn.metrics import mean_squared_error, r2_score\n",
    "from statsmodels.stats.outliers_influence import variance_inflation_factor\n",
    "from pptx import Presentation\n",
    "from pptx.util import Inches\n"
   ]
  },
  {
   "cell_type": "code",
   "execution_count": 16,
   "id": "44e216a8",
   "metadata": {},
   "outputs": [],
   "source": [
    "df = pd.read_csv(\"C:\\\\Users\\\\hanis\\\\OneDrive\\\\file1.csv\", nrows=10000)\n",
    "df_numeric = df.select_dtypes(include=[np.number])\n",
    "\n",
    "X = df_numeric.drop(columns=[\"fire_weather_index\"])\n",
    "y = df_numeric[\"fire_weather_index\"]\n"
   ]
  },
  {
   "cell_type": "code",
   "execution_count": 17,
   "id": "16c31a57",
   "metadata": {},
   "outputs": [],
   "source": [
    "X_train, X_test, y_train, y_test = train_test_split(X, y, test_size=0.2, random_state=42)"
   ]
  },
  {
   "cell_type": "code",
   "execution_count": 18,
   "id": "a1539e11",
   "metadata": {},
   "outputs": [],
   "source": [
    "lin_reg = LinearRegression()\n",
    "lin_reg.fit(X_train, y_train)\n",
    "y_pred = lin_reg.predict(X_test)\n",
    "\n",
    "rmse = np.sqrt(mean_squared_error(y_test, y_pred))\n",
    "r2 = r2_score(y_test, y_pred)"
   ]
  },
  {
   "cell_type": "code",
   "execution_count": 19,
   "id": "5768f72e",
   "metadata": {},
   "outputs": [],
   "source": [
    "residuals = y_test - y_pred\n",
    "plt.scatter(y_pred, residuals, alpha=0.6)\n",
    "plt.axhline(y=0, color=\"red\", linestyle=\"--\")\n",
    "plt.xlabel(\"Predicted FWI\")\n",
    "plt.ylabel(\"Residuals\")\n",
    "plt.title(\"Residual Plot\")\n",
    "plt.savefig(\"residual_plot.png\")\n",
    "plt.close()"
   ]
  },
  {
   "cell_type": "code",
   "execution_count": 20,
   "id": "e356e597",
   "metadata": {},
   "outputs": [],
   "source": [
    "alphas = np.logspace(-3, 3, 50)\n",
    "coefs = []\n",
    "for a in alphas:\n",
    "    ridge = Ridge(alpha=a)\n",
    "    ridge.fit(X_train, y_train)\n",
    "    coefs.append(ridge.coef_)\n",
    "\n",
    "plt.figure(figsize=(8,5))\n",
    "ax = plt.gca()\n",
    "ax.plot(alphas, coefs)\n",
    "ax.set_xscale(\"log\")\n",
    "plt.xlabel(\"Alpha\")\n",
    "plt.ylabel(\"Coefficient values\")\n",
    "plt.title(\"Ridge Coefficient Shrinkage\")\n",
    "plt.savefig(\"ridge_plot.png\")\n",
    "plt.close()"
   ]
  },
  {
   "cell_type": "code",
   "execution_count": 21,
   "id": "42a028a4",
   "metadata": {},
   "outputs": [
    {
     "name": "stderr",
     "output_type": "stream",
     "text": [
      "C:\\Users\\hanis\\AppData\\Roaming\\Python\\Python313\\site-packages\\statsmodels\\regression\\linear_model.py:1784: RuntimeWarning: invalid value encountered in scalar divide\n",
      "  return 1 - self.ssr/self.uncentered_tss\n"
     ]
    }
   ],
   "source": [
    "vif_data = pd.DataFrame()\n",
    "vif_data[\"Feature\"] = X.columns\n",
    "vif_data[\"VIF\"] = [variance_inflation_factor(X.values, i) for i in range(X.shape[1])]"
   ]
  },
  {
   "cell_type": "code",
   "execution_count": 22,
   "id": "0f2c7795",
   "metadata": {},
   "outputs": [],
   "source": [
    "prs = Presentation(\"C:\\\\Users\\\\hanis\\\\Downloads\\\\Linear_Regression_FWI_Presentation.pptx\")"
   ]
  },
  {
   "cell_type": "code",
   "execution_count": 23,
   "id": "1b91b699",
   "metadata": {},
   "outputs": [
    {
     "data": {
      "text/plain": [
       "<pptx.shapes.picture.Picture at 0x1d0b020a060>"
      ]
     },
     "execution_count": 23,
     "metadata": {},
     "output_type": "execute_result"
    }
   ],
   "source": [
    "slide_layout = prs.slide_layouts[5]  \n",
    "slide = prs.slides.add_slide(slide_layout)\n",
    "slide.shapes.title.text = \"Model Results & Plots (10k Sample)\"\n",
    "\n",
    "txBox = slide.shapes.add_textbox(Inches(0.5), Inches(1.2), Inches(4), Inches(1.5))\n",
    "tf = txBox.text_frame\n",
    "tf.text = f\"Linear Regression Results:\\n\\nRMSE: {rmse:.2f}\\nR²: {r2:.2f}\"\n",
    "\n",
    "slide.shapes.add_picture(\"residual_plot.png\", Inches(0.5), Inches(3), height=Inches(2.5))\n",
    "slide.shapes.add_picture(\"ridge_plot.png\", Inches(5), Inches(3), height=Inches(2.5))"
   ]
  },
  {
   "cell_type": "code",
   "execution_count": 24,
   "id": "92ce99cb",
   "metadata": {},
   "outputs": [],
   "source": [
    "slide_layout = prs.slide_layouts[5]\n",
    "slide = prs.slides.add_slide(slide_layout)\n",
    "slide.shapes.title.text = \"Multicollinearity (VIF)\"\n",
    "\n",
    "vif_text = \"\\n\".join([f\"{row['Feature']}: {row['VIF']:.2f}\" for _, row in vif_data.head(10).iterrows()])\n",
    "txBox = slide.shapes.add_textbox(Inches(0.5), Inches(1.5), Inches(8), Inches(4))\n",
    "txBox.text = \"Top 10 Features with VIF:\\n\\n\" + vif_text"
   ]
  },
  {
   "cell_type": "code",
   "execution_count": 25,
   "id": "202fab74",
   "metadata": {},
   "outputs": [
    {
     "name": "stdout",
     "output_type": "stream",
     "text": [
      "✅ Final PPT saved as 'Linear_Regression_FWI_Final.pptx'\n"
     ]
    }
   ],
   "source": [
    "prs.save(\"C:\\\\Users\\\\hanis\\\\Downloads\\\\Linear_Regression_FWI_Presentation.pptx\")\n",
    "\n",
    "print(\"✅ Final PPT saved as 'Linear_Regression_FWI_Final.pptx'\")"
   ]
  },
  {
   "cell_type": "code",
   "execution_count": null,
   "id": "b915713d",
   "metadata": {},
   "outputs": [],
   "source": []
  },
  {
   "cell_type": "code",
   "execution_count": null,
   "id": "9480112d",
   "metadata": {},
   "outputs": [],
   "source": []
  }
 ],
 "metadata": {
  "kernelspec": {
   "display_name": "Python 3",
   "language": "python",
   "name": "python3"
  },
  "language_info": {
   "codemirror_mode": {
    "name": "ipython",
    "version": 3
   },
   "file_extension": ".py",
   "mimetype": "text/x-python",
   "name": "python",
   "nbconvert_exporter": "python",
   "pygments_lexer": "ipython3",
   "version": "3.13.7"
  }
 },
 "nbformat": 4,
 "nbformat_minor": 5
}
